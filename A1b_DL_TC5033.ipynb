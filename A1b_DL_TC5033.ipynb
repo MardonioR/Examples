{
 "cells": [
  {
   "cell_type": "markdown",
   "metadata": {},
   "source": [
    "# TC 5033\n",
    "## Deep Learning\n",
    "## Fully Connected Deep Neural Networks\n",
    "\n",
    "#### Activity 1b: Implementing a Fully Connected Network for Kaggle ASL Dataset\n",
    "\n",
    "- Objective\n",
    "\n",
    "The aim of this part of the activity is to apply your understanding of Fully Connected Networks by implementing a multilayer network for the [Kaggle ASL (American Sign Language) dataset](https://www.kaggle.com/datasets/grassknoted/asl-alphabet). While you have been provided with a complete solution for a Fully Connected Network using Numpy for the MNIST dataset, you are encouraged to try to come up with the solution.\n",
    "\n",
    "- Instructions\n",
    "\n",
    "    This activity requires submission in teams of 3 or 4 members. Submissions from smaller or larger teams will not be accepted unless prior approval has been granted (only due to exceptional circumstances). While teamwork is encouraged, each member is expected to contribute individually to the assignment. The final submission should feature the best arguments and solutions from each team member. Only one person per team needs to submit the completed work, but it is imperative that the names of all team members are listed in a Markdown cell at the very beginning of the notebook (either the first or second cell). Failure to include all team member names will result in the grade being awarded solely to the individual who submitted the assignment, with zero points given to other team members (no exceptions will be made to this rule).\n",
    "\n",
    "    Load and Preprocess Data: You are provided a starter code to load the data. Be sure to understand the code.\n",
    "\n",
    "    Review MNIST Notebook (Optional): Before diving into this activity, you have the option to revisit the MNIST example to refresh your understanding of how to build a Fully Connected Network using Numpy.\n",
    "\n",
    "    Start Fresh: Although you can refer to the MNIST solution at any point, try to implement the network for the ASL dataset on your own. This will reinforce your learning and understanding of the architecture and mathematics involved.\n",
    "\n",
    "    Implement Forward and Backward Pass: Write the code to perform the forward and backward passes, keeping in mind the specific challenges and characteristics of the ASL dataset.\n",
    "    \n",
    "     Design the Network: Create the architecture of the Fully Connected Network tailored for the ASL dataset. Choose the number of hidden layers, neurons, and hyperparameters judiciously.\n",
    "\n",
    "    Train the Model: Execute the training loop, ensuring to track performance metrics such as loss and accuracy.\n",
    "\n",
    "    Analyze and Document: Use Markdown cells to document in detail the choices you made in terms of architecture and hyperparameters, you may use figures, equations, etc to aid in your explanations. Include any metrics that help justify these choices and discuss the model's performance.  \n",
    "\n",
    "- Evaluation Criteria\n",
    "\n",
    "    - Code Readability and Comments\n",
    "    - Appropriateness of chosen architecture and hyperparameters for the ASL dataset\n",
    "    - Performance of the model on the ASL dataset (at least 70% acc)\n",
    "    - Quality of Markdown documentation\n",
    "\n",
    "- Submission\n",
    "\n",
    "Submit this Jupyter Notebook in canvas with your complete solution, ensuring your code is well-commented and includes Markdown cells that explain your design choices, results, and any challenges you encountered.\n"
   ]
  },
  {
   "cell_type": "code",
   "execution_count": 1,
   "metadata": {},
   "outputs": [],
   "source": [
    "import numpy as np\n",
    "import string\n",
    "import pandas as pd\n",
    "import matplotlib.pyplot as plt\n",
    "import cv2 as cv\n",
    "import os\n",
    "import random\n",
    "\n",
    "%load_ext autoreload\n",
    "%autoreload 2\n",
    "#################################\n",
    "%matplotlib inline\n"
   ]
  },
  {
   "cell_type": "code",
   "execution_count": 2,
   "metadata": {},
   "outputs": [],
   "source": [
    "DATA_PATH = 'asl_data/'\n",
    "train_df = pd.read_csv(os.path.join(DATA_PATH, 'sign_mnist_train.csv'))\n",
    "valid_df = pd.read_csv(os.path.join(DATA_PATH, 'sign_mnist_valid.csv'))"
   ]
  },
  {
   "cell_type": "code",
   "execution_count": 3,
   "metadata": {},
   "outputs": [
    {
     "data": {
      "text/html": [
       "<div>\n",
       "<style scoped>\n",
       "    .dataframe tbody tr th:only-of-type {\n",
       "        vertical-align: middle;\n",
       "    }\n",
       "\n",
       "    .dataframe tbody tr th {\n",
       "        vertical-align: top;\n",
       "    }\n",
       "\n",
       "    .dataframe thead th {\n",
       "        text-align: right;\n",
       "    }\n",
       "</style>\n",
       "<table border=\"1\" class=\"dataframe\">\n",
       "  <thead>\n",
       "    <tr style=\"text-align: right;\">\n",
       "      <th></th>\n",
       "      <th>label</th>\n",
       "      <th>pixel1</th>\n",
       "      <th>pixel2</th>\n",
       "      <th>pixel3</th>\n",
       "      <th>pixel4</th>\n",
       "      <th>pixel5</th>\n",
       "      <th>pixel6</th>\n",
       "      <th>pixel7</th>\n",
       "      <th>pixel8</th>\n",
       "      <th>pixel9</th>\n",
       "      <th>...</th>\n",
       "      <th>pixel775</th>\n",
       "      <th>pixel776</th>\n",
       "      <th>pixel777</th>\n",
       "      <th>pixel778</th>\n",
       "      <th>pixel779</th>\n",
       "      <th>pixel780</th>\n",
       "      <th>pixel781</th>\n",
       "      <th>pixel782</th>\n",
       "      <th>pixel783</th>\n",
       "      <th>pixel784</th>\n",
       "    </tr>\n",
       "  </thead>\n",
       "  <tbody>\n",
       "    <tr>\n",
       "      <th>0</th>\n",
       "      <td>3</td>\n",
       "      <td>107</td>\n",
       "      <td>118</td>\n",
       "      <td>127</td>\n",
       "      <td>134</td>\n",
       "      <td>139</td>\n",
       "      <td>143</td>\n",
       "      <td>146</td>\n",
       "      <td>150</td>\n",
       "      <td>153</td>\n",
       "      <td>...</td>\n",
       "      <td>207</td>\n",
       "      <td>207</td>\n",
       "      <td>207</td>\n",
       "      <td>207</td>\n",
       "      <td>206</td>\n",
       "      <td>206</td>\n",
       "      <td>206</td>\n",
       "      <td>204</td>\n",
       "      <td>203</td>\n",
       "      <td>202</td>\n",
       "    </tr>\n",
       "    <tr>\n",
       "      <th>1</th>\n",
       "      <td>6</td>\n",
       "      <td>155</td>\n",
       "      <td>157</td>\n",
       "      <td>156</td>\n",
       "      <td>156</td>\n",
       "      <td>156</td>\n",
       "      <td>157</td>\n",
       "      <td>156</td>\n",
       "      <td>158</td>\n",
       "      <td>158</td>\n",
       "      <td>...</td>\n",
       "      <td>69</td>\n",
       "      <td>149</td>\n",
       "      <td>128</td>\n",
       "      <td>87</td>\n",
       "      <td>94</td>\n",
       "      <td>163</td>\n",
       "      <td>175</td>\n",
       "      <td>103</td>\n",
       "      <td>135</td>\n",
       "      <td>149</td>\n",
       "    </tr>\n",
       "    <tr>\n",
       "      <th>2</th>\n",
       "      <td>2</td>\n",
       "      <td>187</td>\n",
       "      <td>188</td>\n",
       "      <td>188</td>\n",
       "      <td>187</td>\n",
       "      <td>187</td>\n",
       "      <td>186</td>\n",
       "      <td>187</td>\n",
       "      <td>188</td>\n",
       "      <td>187</td>\n",
       "      <td>...</td>\n",
       "      <td>202</td>\n",
       "      <td>201</td>\n",
       "      <td>200</td>\n",
       "      <td>199</td>\n",
       "      <td>198</td>\n",
       "      <td>199</td>\n",
       "      <td>198</td>\n",
       "      <td>195</td>\n",
       "      <td>194</td>\n",
       "      <td>195</td>\n",
       "    </tr>\n",
       "    <tr>\n",
       "      <th>3</th>\n",
       "      <td>2</td>\n",
       "      <td>211</td>\n",
       "      <td>211</td>\n",
       "      <td>212</td>\n",
       "      <td>212</td>\n",
       "      <td>211</td>\n",
       "      <td>210</td>\n",
       "      <td>211</td>\n",
       "      <td>210</td>\n",
       "      <td>210</td>\n",
       "      <td>...</td>\n",
       "      <td>235</td>\n",
       "      <td>234</td>\n",
       "      <td>233</td>\n",
       "      <td>231</td>\n",
       "      <td>230</td>\n",
       "      <td>226</td>\n",
       "      <td>225</td>\n",
       "      <td>222</td>\n",
       "      <td>229</td>\n",
       "      <td>163</td>\n",
       "    </tr>\n",
       "    <tr>\n",
       "      <th>4</th>\n",
       "      <td>12</td>\n",
       "      <td>164</td>\n",
       "      <td>167</td>\n",
       "      <td>170</td>\n",
       "      <td>172</td>\n",
       "      <td>176</td>\n",
       "      <td>179</td>\n",
       "      <td>180</td>\n",
       "      <td>184</td>\n",
       "      <td>185</td>\n",
       "      <td>...</td>\n",
       "      <td>92</td>\n",
       "      <td>105</td>\n",
       "      <td>105</td>\n",
       "      <td>108</td>\n",
       "      <td>133</td>\n",
       "      <td>163</td>\n",
       "      <td>157</td>\n",
       "      <td>163</td>\n",
       "      <td>164</td>\n",
       "      <td>179</td>\n",
       "    </tr>\n",
       "  </tbody>\n",
       "</table>\n",
       "<p>5 rows × 785 columns</p>\n",
       "</div>"
      ],
      "text/plain": [
       "   label  pixel1  pixel2  pixel3  pixel4  pixel5  pixel6  pixel7  pixel8  \\\n",
       "0      3     107     118     127     134     139     143     146     150   \n",
       "1      6     155     157     156     156     156     157     156     158   \n",
       "2      2     187     188     188     187     187     186     187     188   \n",
       "3      2     211     211     212     212     211     210     211     210   \n",
       "4     12     164     167     170     172     176     179     180     184   \n",
       "\n",
       "   pixel9  ...  pixel775  pixel776  pixel777  pixel778  pixel779  pixel780  \\\n",
       "0     153  ...       207       207       207       207       206       206   \n",
       "1     158  ...        69       149       128        87        94       163   \n",
       "2     187  ...       202       201       200       199       198       199   \n",
       "3     210  ...       235       234       233       231       230       226   \n",
       "4     185  ...        92       105       105       108       133       163   \n",
       "\n",
       "   pixel781  pixel782  pixel783  pixel784  \n",
       "0       206       204       203       202  \n",
       "1       175       103       135       149  \n",
       "2       198       195       194       195  \n",
       "3       225       222       229       163  \n",
       "4       157       163       164       179  \n",
       "\n",
       "[5 rows x 785 columns]"
      ]
     },
     "execution_count": 3,
     "metadata": {},
     "output_type": "execute_result"
    }
   ],
   "source": [
    "train_df.head()"
   ]
  },
  {
   "cell_type": "markdown",
   "metadata": {},
   "source": [
    "### Importar Images"
   ]
  },
  {
   "cell_type": "code",
   "execution_count": 4,
   "metadata": {},
   "outputs": [],
   "source": [
    "y_train = np.array(train_df['label'])\n",
    "y_val = np.array(valid_df['label'])\n",
    "del train_df['label']\n",
    "del valid_df['label']\n",
    "x_train = train_df.values.astype(np.float32)\n",
    "x_val = valid_df.values.astype(np.float32)"
   ]
  },
  {
   "cell_type": "code",
   "execution_count": 5,
   "metadata": {
    "code_folding": []
   },
   "outputs": [],
   "source": [
    "def split_val_test(x, y, pct=0.5, shuffle=True):\n",
    "    '''\n",
    "    Create a function that will allow you to split the previously loaded validation set\n",
    "    into valition and test.\n",
    "    '''\n",
    "\n",
    "    # Defining number of rows for each set\n",
    "    n_rows_val = int(round(len(x)*pct,0))\n",
    "    n_rows_test = len(x) - n_rows_val\n",
    "\n",
    "    # Taking a sample of the required ammount of random numbers\n",
    "    index_val = random.sample(range(len(x)),n_rows_val)\n",
    "\n",
    "    # Creating desired dataframes\n",
    "    x_val = x[np.isin(np.arange(x.shape[0]), index_val, invert=False)]\n",
    "    x_test = x[np.isin(np.arange(x.shape[0]), index_val, invert=True)]\n",
    "    y_val = y[np.isin(np.arange(y.shape[0]), index_val, invert=False)]\n",
    "    y_test = y[np.isin(np.arange(y.shape[0]), index_val, invert=True)]\n",
    "\n",
    "    # Ordering arrays depending on shuffle parameter\n",
    "    if shuffle:\n",
    "        # Creating list with the new ordered index\n",
    "        order_val = np.random.permutation(len(x_val))\n",
    "        order_test = np.random.permutation(len(x_test))\n",
    "\n",
    "        # Ordering arrays\n",
    "        x_val = x_val[order_val]\n",
    "        y_val = y_val[order_val]\n",
    "        x_test = x_test[order_test]\n",
    "        y_test = y_test[order_test]\n",
    "    else:\n",
    "        pass\n",
    "\n",
    "    return x_val, y_val, x_test, y_test"
   ]
  },
  {
   "cell_type": "code",
   "execution_count": 6,
   "metadata": {},
   "outputs": [],
   "source": [
    "x_val, y_val, x_test, y_test = split_val_test(x_val, y_val)"
   ]
  },
  {
   "cell_type": "code",
   "execution_count": 7,
   "metadata": {},
   "outputs": [
    {
     "name": "stdout",
     "output_type": "stream",
     "text": [
      "24\n"
     ]
    }
   ],
   "source": [
    "### The following\n",
    "\n",
    "alphabet=list(string.ascii_lowercase)\n",
    "alphabet.remove('j')\n",
    "alphabet.remove('z')\n",
    "print(len(alphabet))"
   ]
  },
  {
   "cell_type": "markdown",
   "metadata": {},
   "source": [
    "### Normalise"
   ]
  },
  {
   "cell_type": "code",
   "execution_count": 8,
   "metadata": {},
   "outputs": [],
   "source": [
    "# Function to normalize data\n",
    "def normalise(data, mean, std):\n",
    "    return (data - mean) / std"
   ]
  },
  {
   "cell_type": "code",
   "execution_count": 9,
   "metadata": {},
   "outputs": [
    {
     "name": "stdout",
     "output_type": "stream",
     "text": [
      "Original mean, std \n",
      "   x_train: 159.2908, 48.7695 \n",
      "   x_val: 160.7560, 48.8651 \n",
      "   x_test: 160.3862, 49.2187 \n",
      "\n",
      "Normalized mean, std \n",
      "   x_train: 0.0000, 1.0000 \n",
      "   x_val: 0.0300, 1.0020 \n",
      "   x_test: 0.0225, 1.0092\n"
     ]
    }
   ],
   "source": [
    "# Normalizing datasets\n",
    "# Calculating parameters from trainning set to avoid data leakage\n",
    "mean = np.mean(x_train)\n",
    "std = np.std(x_train)\n",
    "\n",
    "print(f'Original mean, std \\n   x_train: {np.mean(x_train):.4f}, {np.std(x_train):.4f} \\n   x_val: {np.mean(x_val):.4f}, {np.std(x_val):.4f} \\n   x_test: {np.mean(x_test):.4f}, {np.std(x_test):.4f} \\n')\n",
    "\n",
    "# Normalizing data\n",
    "x_train = normalise(x_train, mean, std)\n",
    "x_val = normalise(x_val, mean, std)\n",
    "x_test = normalise(x_test, mean, std)\n",
    "\n",
    "print(f'Normalized mean, std \\n   x_train: {np.mean(x_train):.4f}, {np.std(x_train):.4f} \\n   x_val: {np.mean(x_val):.4f}, {np.std(x_val):.4f} \\n   x_test: {np.mean(x_test):.4f}, {np.std(x_test):.4f}')"
   ]
  },
  {
   "cell_type": "markdown",
   "metadata": {},
   "source": [
    "### Graficar muestras"
   ]
  },
  {
   "cell_type": "code",
   "execution_count": 43,
   "metadata": {},
   "outputs": [],
   "source": [
    "def plot_image(image):\n",
    "    plt.imshow(image.reshape(28,28), cmap='Greys', interpolation='nearest')\n",
    "    plt.axis('off')"
   ]
  },
  {
   "cell_type": "code",
   "execution_count": 47,
   "metadata": {},
   "outputs": [
    {
     "data": {
      "text/plain": [
       "[]"
      ]
     },
     "execution_count": 47,
     "metadata": {},
     "output_type": "execute_result"
    },
    {
     "data": {
      "image/png": "[encoded data removed]",
      "text/plain": [
       "<Figure size 1200x1200 with 9 Axes>"
      ]
     },
     "metadata": {},
     "output_type": "display_data"
    }
   ],
   "source": [
    "# Grapghing some images\n",
    "fig, ax = plt.subplots(nrows=3, ncols=3, \n",
    "                       sharex=True, sharey=True, figsize=(12, 12))\n",
    "ax = ax.flatten()\n",
    "\n",
    "for i in range(9):\n",
    "    plt.subplot(3, 3, i+1)\n",
    "    plot_image(x_train[np.random.randint(len(y_test))])\n",
    "\n",
    "ax[0].set_xticks([])\n",
    "ax[0].set_yticks([])"
   ]
  },
  {
   "cell_type": "markdown",
   "metadata": {},
   "source": [
    "### Ecuaciones para nuestro modelo\n",
    "\n",
    "\n",
    "$$z^1 = W^1 X + b^1$$\n",
    "\n",
    "$$a^1 = ReLU(z^1) $$\n",
    "\n",
    "$$z^2 = W^2 a^1 + b^2$$\n",
    "\n",
    "$$\\hat{y} = \\frac{e^{z^{2_k}}}{\\sum_j{e^{z_j}}}$$\n",
    "\n",
    "\n",
    "$$ \\mathcal{L}(\\hat{y}^{i}, y^{i}) =  - y^{i}  \\ln(\\hat{y}^{i}) = -\\ln(\\hat{y}^i)$$\n",
    "\n",
    "\n",
    "$$ \\mathcal{J}(w, b) =  \\frac{1}{num\\_samples} \\sum_{i=1}^{num\\_samples}-\\ln(\\hat{y}^{i})$$"
   ]
  },
  {
   "cell_type": "markdown",
   "metadata": {},
   "source": [
    "### Funciones adicionales"
   ]
  },
  {
   "cell_type": "markdown",
   "metadata": {},
   "source": [
    "#### Mini batches"
   ]
  },
  {
   "cell_type": "code",
   "execution_count": 58,
   "metadata": {},
   "outputs": [],
   "source": [
    "def create_minibatches(mb_size, x, y, shuffle = True):\n",
    "    '''\n",
    "    x  #muestras, 784\n",
    "    y #muestras, 1\n",
    "    '''\n",
    "    assert x.shape[0] == y.shape[0], 'Error en cantidad de muestras'\n",
    "    total_data = x.shape[0]\n",
    "    if shuffle: \n",
    "        idxs = np.arange(total_data)\n",
    "        np.random.shuffle(idxs)\n",
    "        x = x[idxs]\n",
    "        y = y[idxs]  \n",
    "    return ((x[i:i+mb_size], y[i:i+mb_size]) for i in range(0, total_data, mb_size))"
   ]
  },
  {
   "cell_type": "markdown",
   "metadata": {},
   "source": [
    "## Nuestra clase Linear, ReLU y Sequential"
   ]
  },
  {
   "cell_type": "code",
   "execution_count": 48,
   "metadata": {},
   "outputs": [],
   "source": [
    "class np_tensor(np.ndarray): pass"
   ]
  },
  {
   "cell_type": "markdown",
   "metadata": {},
   "source": [
    "###  Clase Linear"
   ]
  },
  {
   "cell_type": "code",
   "execution_count": 50,
   "metadata": {},
   "outputs": [],
   "source": [
    "class Linear():\n",
    "    def __init__(self, input_size, output_size):\n",
    "        '''\n",
    "        Init parameters utilizando Kaiming He\n",
    "        '''\n",
    "        self.W = (np.random.randn(output_size, input_size) / np.sqrt(input_size/2)).view(np_tensor)\n",
    "        self.b = (np.zeros((output_size, 1))).view(np_tensor)\n",
    "    def __call__(self, X): # esta el foward de la clase lineal\n",
    "        Z = self.W @ X + self.b\n",
    "        return Z\n",
    "    def backward(self, X, Z):\n",
    "        X.grad = self.W.T @ Z.grad\n",
    "        self.W.grad = Z.grad @ X.T\n",
    "        self.b.grad = np.sum(Z.grad, axis = 1, keepdims=True)    \n",
    "    "
   ]
  },
  {
   "cell_type": "markdown",
   "metadata": {},
   "source": [
    "### Clase ReLU"
   ]
  },
  {
   "cell_type": "code",
   "execution_count": 51,
   "metadata": {},
   "outputs": [],
   "source": [
    "class ReLU():\n",
    "    def __call__(self, Z):\n",
    "        return np.maximum(0, Z)\n",
    "    def backward(self, Z, A):\n",
    "        Z.grad = A.grad.copy()\n",
    "        Z.grad[Z <= 0] = 0"
   ]
  },
  {
   "cell_type": "markdown",
   "metadata": {},
   "source": [
    "### Clase Sequential"
   ]
  },
  {
   "cell_type": "code",
   "execution_count": 52,
   "metadata": {},
   "outputs": [],
   "source": [
    "class Sequential_layers():\n",
    "    def __init__(self, layers):\n",
    "        '''\n",
    "        layers - lista que contiene objetos de tipo Linear, ReLU\n",
    "        '''\n",
    "        self.layers = layers\n",
    "        self.x = None\n",
    "        self.outputs = {}\n",
    "    def __call__(self, X):\n",
    "        self.x = X \n",
    "        self.outputs['l0'] = self.x\n",
    "        for i, layer in enumerate(self.layers, 1):\n",
    "            self.x = layer(self.x)\n",
    "            self.outputs['l'+str(i)]=self.x\n",
    "        return self.x\n",
    "    def backward(self):\n",
    "        for i in reversed(range(len(self.layers))):\n",
    "            self.layers[i].backward(self.outputs['l'+str(i)], self.outputs['l'+str(i+1)])\n",
    "    def update(self, learning_rate = 1e-3):\n",
    "        for layer in self.layers:\n",
    "            if isinstance(layer, ReLU): continue\n",
    "            layer.W = layer.W - learning_rate * layer.W.grad\n",
    "            layer.b = layer.b - learning_rate * layer.b.grad\n",
    "    def predict(self, X):\n",
    "        return np.argmax(self.__call__(X))            "
   ]
  },
  {
   "cell_type": "markdown",
   "metadata": {},
   "source": [
    "### Cost Function"
   ]
  },
  {
   "cell_type": "code",
   "execution_count": 53,
   "metadata": {},
   "outputs": [],
   "source": [
    "def softmaxXEntropy(x, y):\n",
    "    batch_size = x.shape[1]\n",
    "    exp_scores = np.exp(x)\n",
    "    probs = exp_scores / exp_scores.sum(axis = 0)\n",
    "    preds = probs.copy()\n",
    "    # Costo\n",
    "    y_hat = probs[y.squeeze(), np.arange(batch_size)]\n",
    "    cost = np.sum(-np.log(y_hat)) / batch_size\n",
    "    # Calcular gradientes\n",
    "    probs[y.squeeze(), np.arange(batch_size)] -= 1 #dl/dx\n",
    "    x.grad = probs.copy()\n",
    "    \n",
    "    return preds, cost"
   ]
  },
  {
   "cell_type": "markdown",
   "metadata": {},
   "source": [
    "#### Alternative fro softMax Function"
   ]
  },
  {
   "cell_type": "code",
   "execution_count": null,
   "metadata": {},
   "outputs": [],
   "source": [
    "def softmaxXEntropy(x, y):\n",
    "    exp_scores = np.exp(x - np.max(x, axis=0, keepdims=True))\n",
    "    probs = exp_scores / exp_scores.sum(axis=0, keepdims=True)\n",
    "    batch_size = x.shape[1]\n",
    "    y_hat = probs[y.squeeze(), np.arange(batch_size)]\n",
    "    cost = -np.mean(np.log(y_hat))\n",
    "    probs[y.squeeze(), np.arange(batch_size)] -= 1 # Gradient x.grad = probs.copy() return probs, cost"
   ]
  },
  {
   "cell_type": "markdown",
   "metadata": {},
   "source": [
    "### Loop de entrenamiento"
   ]
  },
  {
   "cell_type": "code",
   "execution_count": 87,
   "metadata": {},
   "outputs": [],
   "source": [
    "def train(model, epochs, mb_size=128, learning_rate = 1e-3):\n",
    "    for epoch in range(epochs):\n",
    "        for i, (x, y) in enumerate(create_minibatches(mb_size, x_train, y_train)):\n",
    "            scores = model(x.T.view(np_tensor))\n",
    "            _, cost = softmaxXEntropy(scores, y)\n",
    "            model.backward()\n",
    "            model.update(learning_rate)\n",
    "        print(f'costo {epoch}: {cost}, accuracy {epoch}: {accuracy(x_val, y_val, mb_size)}')"
   ]
  },
  {
   "cell_type": "code",
   "execution_count": 56,
   "metadata": {},
   "outputs": [],
   "source": [
    "def accuracy(x, y, mb_size):\n",
    "    correct = 0\n",
    "    total = 0\n",
    "    for i, (x, y) in enumerate(create_minibatches(mb_size, x, y)):\n",
    "        pred = model(x.T.view(np_tensor))\n",
    "        correct += np.sum(np.argmax(pred, axis=0) == y.squeeze())\n",
    "        total += pred.shape[1]\n",
    "    return correct/total"
   ]
  },
  {
   "cell_type": "markdown",
   "metadata": {},
   "source": [
    "### Create your model and train it"
   ]
  },
  {
   "cell_type": "code",
   "execution_count": 111,
   "metadata": {},
   "outputs": [
    {
     "name": "stdout",
     "output_type": "stream",
     "text": [
      "costo 0: 0.9433748998951526, accuracy 0: 0.5814277746793084\n",
      "costo 1: 0.4000883108473187, accuracy 1: 0.7035694366982711\n",
      "costo 2: 0.2166626345712568, accuracy 2: 0.7345231455660903\n",
      "costo 3: 0.11303009941152375, accuracy 3: 0.7635248187395427\n",
      "costo 4: 0.07677692259347144, accuracy 4: 0.7598996095928612\n",
      "costo 5: 0.04955953555323201, accuracy 5: 0.7649191299498048\n",
      "costo 6: 0.04265366370886995, accuracy 6: 0.7718906860011154\n",
      "costo 7: 0.029054846232512043, accuracy 7: 0.7724484104852203\n",
      "costo 8: 0.02540824471481799, accuracy 8: 0.7766313441160066\n",
      "costo 9: 0.022221525084243823, accuracy 9: 0.7763524818739542\n",
      "costo 10: 0.017804022239248818, accuracy 10: 0.7791411042944786\n",
      "costo 11: 0.016132296811665964, accuracy 11: 0.7827663134411601\n",
      "costo 12: 0.013897063276841343, accuracy 12: 0.7824874511991077\n",
      "costo 13: 0.013258270492986756, accuracy 13: 0.7824874511991077\n",
      "costo 14: 0.01072459496984877, accuracy 14: 0.7819297267150028\n",
      "costo 15: 0.010820529215993488, accuracy 15: 0.783324037925265\n",
      "costo 16: 0.0083839877083567, accuracy 16: 0.7847183491355271\n",
      "costo 17: 0.007716459224031586, accuracy 17: 0.7869492470719465\n",
      "costo 18: 0.006438407133766245, accuracy 18: 0.7897378694924707\n",
      "costo 19: 0.007824582029578687, accuracy 19: 0.7911321807027328\n",
      "costo 20: 0.006845771006912155, accuracy 20: 0.790574456218628\n",
      "costo 21: 0.006207061755691489, accuracy 21: 0.7897378694924707\n",
      "costo 22: 0.006019359151177907, accuracy 22: 0.7919687674288901\n",
      "costo 23: 0.005550936643534188, accuracy 23: 0.792526491912995\n",
      "costo 24: 0.005798525414532616, accuracy 24: 0.7947573898494144\n",
      "costo 25: 0.004914565333214824, accuracy 25: 0.7950362520914668\n",
      "costo 26: 0.004915172529846967, accuracy 26: 0.7941996653653095\n",
      "costo 27: 0.005419080383628137, accuracy 27: 0.7944785276073619\n",
      "costo 28: 0.004332742698069528, accuracy 28: 0.7941996653653095\n",
      "costo 29: 0.004174961883103852, accuracy 29: 0.7961517010596765\n",
      "costo 30: 0.003405582345150088, accuracy 30: 0.7947573898494144\n",
      "costo 31: 0.0046260433209102895, accuracy 31: 0.7947573898494144\n",
      "costo 32: 0.0031023967628440695, accuracy 32: 0.7955939765755716\n",
      "costo 33: 0.0034766555079530337, accuracy 33: 0.7967094255437813\n",
      "costo 34: 0.003475926314597976, accuracy 34: 0.7944785276073619\n",
      "costo 35: 0.0029966725544889605, accuracy 35: 0.7967094255437813\n",
      "costo 36: 0.003106629590450151, accuracy 36: 0.7953151143335192\n",
      "costo 37: 0.002551493543432104, accuracy 37: 0.7961517010596765\n",
      "costo 38: 0.0030134273363395135, accuracy 38: 0.7964305633017289\n",
      "costo 39: 0.00302895118088321, accuracy 39: 0.7964305633017289\n",
      "costo 40: 0.002446073496642841, accuracy 40: 0.7969882877858337\n",
      "costo 41: 0.002870692635037422, accuracy 41: 0.7953151143335192\n",
      "costo 42: 0.0023848111208143183, accuracy 42: 0.7969882877858337\n",
      "costo 43: 0.002340430068630033, accuracy 43: 0.7964305633017289\n",
      "costo 44: 0.0022720817412974653, accuracy 44: 0.7969882877858337\n",
      "costo 45: 0.0027083994289765064, accuracy 45: 0.795872838817624\n",
      "costo 46: 0.0022396579890329974, accuracy 46: 0.7972671500278862\n",
      "costo 47: 0.0019445368260895975, accuracy 47: 0.7961517010596765\n",
      "costo 48: 0.002218516777724427, accuracy 48: 0.7967094255437813\n",
      "costo 49: 0.002186986714333664, accuracy 49: 0.7981037367540436\n",
      "costo 50: 0.002176062190793851, accuracy 50: 0.7967094255437813\n",
      "costo 51: 0.0020195471753955163, accuracy 51: 0.7969882877858337\n",
      "costo 52: 0.0018078685546484713, accuracy 52: 0.7972671500278862\n",
      "costo 53: 0.0024793845965780372, accuracy 53: 0.7986614612381484\n",
      "costo 54: 0.0017510608497200374, accuracy 54: 0.7975460122699386\n",
      "costo 55: 0.0016251202221862842, accuracy 55: 0.7967094255437813\n",
      "costo 56: 0.001814163005187069, accuracy 56: 0.7981037367540436\n",
      "costo 57: 0.0016828739341478672, accuracy 57: 0.7967094255437813\n",
      "costo 58: 0.002361226302691627, accuracy 58: 0.798382598996096\n",
      "costo 59: 0.0017523592054698109, accuracy 59: 0.7975460122699386\n",
      "costo 60: 0.0013840540771913063, accuracy 60: 0.797824874511991\n",
      "costo 61: 0.001588154179006641, accuracy 61: 0.7981037367540436\n",
      "costo 62: 0.0012919169926320642, accuracy 62: 0.798382598996096\n",
      "costo 63: 0.001725718543928547, accuracy 63: 0.797824874511991\n",
      "costo 64: 0.0016695632200770364, accuracy 64: 0.797824874511991\n",
      "costo 65: 0.0016280622464760054, accuracy 65: 0.7981037367540436\n",
      "costo 66: 0.0013806153132217235, accuracy 66: 0.798382598996096\n",
      "costo 67: 0.0013131594194724784, accuracy 67: 0.7975460122699386\n",
      "costo 68: 0.0013575241630307574, accuracy 68: 0.7986614612381484\n",
      "costo 69: 0.001456864148968289, accuracy 69: 0.7997769102063581\n",
      "costo 70: 0.00127583741320684, accuracy 70: 0.7992191857222533\n",
      "costo 71: 0.0013354690799504852, accuracy 71: 0.7989403234802008\n",
      "costo 72: 0.001181045353081349, accuracy 72: 0.798382598996096\n",
      "costo 73: 0.0011424699403449427, accuracy 73: 0.798382598996096\n",
      "costo 74: 0.0011602198686155804, accuracy 74: 0.7989403234802008\n",
      "costo 75: 0.001155428930411895, accuracy 75: 0.798382598996096\n",
      "costo 76: 0.0014867386886132517, accuracy 76: 0.7981037367540436\n",
      "costo 77: 0.0011729349390207648, accuracy 77: 0.798382598996096\n",
      "costo 78: 0.001075462657931764, accuracy 78: 0.797824874511991\n",
      "costo 79: 0.0011900121326483036, accuracy 79: 0.797824874511991\n",
      "costo 80: 0.001114959683492631, accuracy 80: 0.7989403234802008\n",
      "costo 81: 0.0009784561998787656, accuracy 81: 0.7994980479643057\n",
      "costo 82: 0.0011338462654292907, accuracy 82: 0.7989403234802008\n",
      "costo 83: 0.0009436529442506503, accuracy 83: 0.797824874511991\n",
      "costo 84: 0.0008599855340259145, accuracy 84: 0.7975460122699386\n",
      "costo 85: 0.0010297845574945225, accuracy 85: 0.7981037367540436\n",
      "costo 86: 0.0008600961488997695, accuracy 86: 0.798382598996096\n",
      "costo 87: 0.0009224273005549499, accuracy 87: 0.797824874511991\n",
      "costo 88: 0.0010590755520956678, accuracy 88: 0.7981037367540436\n",
      "costo 89: 0.0009536400952128333, accuracy 89: 0.798382598996096\n",
      "costo 90: 0.001185847273260035, accuracy 90: 0.7981037367540436\n",
      "costo 91: 0.0009458082729639364, accuracy 91: 0.798382598996096\n",
      "costo 92: 0.0010072647766272069, accuracy 92: 0.7989403234802008\n",
      "costo 93: 0.0010143849858617676, accuracy 93: 0.7992191857222533\n",
      "costo 94: 0.0008135238080584805, accuracy 94: 0.7992191857222533\n",
      "costo 95: 0.0009588328928734767, accuracy 95: 0.7989403234802008\n",
      "costo 96: 0.0008703455784588089, accuracy 96: 0.7986614612381484\n",
      "costo 97: 0.0009918760380367593, accuracy 97: 0.7986614612381484\n",
      "costo 98: 0.0009023941507994329, accuracy 98: 0.7986614612381484\n",
      "costo 99: 0.0007772152876836073, accuracy 99: 0.7997769102063581\n",
      "costo 100: 0.000884417092350397, accuracy 100: 0.7992191857222533\n",
      "costo 101: 0.0009697900461489997, accuracy 101: 0.7992191857222533\n",
      "costo 102: 0.0008297590279633425, accuracy 102: 0.7989403234802008\n",
      "costo 103: 0.0008637081961358001, accuracy 103: 0.8000557724484105\n",
      "costo 104: 0.0008212993168967818, accuracy 104: 0.8006134969325154\n",
      "costo 105: 0.0008429094798115649, accuracy 105: 0.7997769102063581\n",
      "costo 106: 0.0007110785898463302, accuracy 106: 0.7986614612381484\n",
      "costo 107: 0.0009015073642167808, accuracy 107: 0.7992191857222533\n",
      "costo 108: 0.0007150147068832477, accuracy 108: 0.7986614612381484\n",
      "costo 109: 0.0007281049427582804, accuracy 109: 0.7994980479643057\n",
      "costo 110: 0.0008580549328462621, accuracy 110: 0.800334634690463\n",
      "costo 111: 0.000758857797549742, accuracy 111: 0.8000557724484105\n",
      "costo 112: 0.0006761289487372277, accuracy 112: 0.7986614612381484\n",
      "costo 113: 0.0006797793441613779, accuracy 113: 0.7994980479643057\n",
      "costo 114: 0.0007318870336499246, accuracy 114: 0.7992191857222533\n",
      "costo 115: 0.0006825204321954097, accuracy 115: 0.7997769102063581\n",
      "costo 116: 0.000728257190233615, accuracy 116: 0.7992191857222533\n",
      "costo 117: 0.0008566409815025706, accuracy 117: 0.7992191857222533\n",
      "costo 118: 0.0006234499253872498, accuracy 118: 0.7997769102063581\n",
      "costo 119: 0.000670151613208848, accuracy 119: 0.8000557724484105\n",
      "costo 120: 0.0007266591783731732, accuracy 120: 0.7992191857222533\n",
      "costo 121: 0.0005953065735272073, accuracy 121: 0.800334634690463\n",
      "costo 122: 0.0006814758204100391, accuracy 122: 0.800334634690463\n",
      "costo 123: 0.0007287865391911817, accuracy 123: 0.7997769102063581\n",
      "costo 124: 0.000613184381939969, accuracy 124: 0.7997769102063581\n",
      "costo 125: 0.0005569460881983711, accuracy 125: 0.8006134969325154\n",
      "costo 126: 0.0006132960958640311, accuracy 126: 0.7997769102063581\n",
      "costo 127: 0.0006766041944941578, accuracy 127: 0.800334634690463\n",
      "costo 128: 0.000552669167800974, accuracy 128: 0.8000557724484105\n",
      "costo 129: 0.0007390790315298707, accuracy 129: 0.8000557724484105\n",
      "costo 130: 0.0006627133457275664, accuracy 130: 0.8000557724484105\n",
      "costo 131: 0.0006916440951996664, accuracy 131: 0.800334634690463\n",
      "costo 132: 0.0006183278090630476, accuracy 132: 0.8000557724484105\n",
      "costo 133: 0.0008315135470264125, accuracy 133: 0.800334634690463\n",
      "costo 134: 0.0006680790052851971, accuracy 134: 0.7997769102063581\n",
      "costo 135: 0.0009175703524464904, accuracy 135: 0.7997769102063581\n",
      "costo 136: 0.0006500150296851244, accuracy 136: 0.7997769102063581\n",
      "costo 137: 0.0005256330950962268, accuracy 137: 0.7992191857222533\n",
      "costo 138: 0.0007585695629754842, accuracy 138: 0.8000557724484105\n",
      "costo 139: 0.000558465042181855, accuracy 139: 0.7992191857222533\n",
      "costo 140: 0.000605594576938605, accuracy 140: 0.8000557724484105\n",
      "costo 141: 0.0005142687755513783, accuracy 141: 0.8000557724484105\n",
      "costo 142: 0.000499848392271285, accuracy 142: 0.8000557724484105\n",
      "costo 143: 0.0005479338469764508, accuracy 143: 0.7997769102063581\n",
      "costo 144: 0.0007258954637022573, accuracy 144: 0.7994980479643057\n",
      "costo 145: 0.0005035595180177045, accuracy 145: 0.7997769102063581\n",
      "costo 146: 0.0005086203678917427, accuracy 146: 0.7986614612381484\n",
      "costo 147: 0.0005183264349569475, accuracy 147: 0.7994980479643057\n",
      "costo 148: 0.000652111357218173, accuracy 148: 0.7994980479643057\n",
      "costo 149: 0.0004808514482584727, accuracy 149: 0.7994980479643057\n",
      "costo 150: 0.0005828453424349001, accuracy 150: 0.7994980479643057\n",
      "costo 151: 0.0005403710522949871, accuracy 151: 0.7994980479643057\n",
      "costo 152: 0.0005016089012617794, accuracy 152: 0.7994980479643057\n",
      "costo 153: 0.0005386494772943699, accuracy 153: 0.7992191857222533\n",
      "costo 154: 0.0005025328589355744, accuracy 154: 0.7992191857222533\n",
      "costo 155: 0.0004986434588294305, accuracy 155: 0.7992191857222533\n",
      "costo 156: 0.0005480781998897578, accuracy 156: 0.7992191857222533\n",
      "costo 157: 0.0006371213715346698, accuracy 157: 0.7992191857222533\n",
      "costo 158: 0.00041592569728458146, accuracy 158: 0.7992191857222533\n",
      "costo 159: 0.0004829480459813115, accuracy 159: 0.7994980479643057\n",
      "costo 160: 0.0004785456778202588, accuracy 160: 0.7992191857222533\n",
      "costo 161: 0.0005157574356686657, accuracy 161: 0.7992191857222533\n",
      "costo 162: 0.0005757824589720744, accuracy 162: 0.7997769102063581\n",
      "costo 163: 0.00043374823163730555, accuracy 163: 0.7992191857222533\n",
      "costo 164: 0.000479475467197771, accuracy 164: 0.7992191857222533\n",
      "costo 165: 0.0004206201716592748, accuracy 165: 0.7997769102063581\n",
      "costo 166: 0.000441907473228087, accuracy 166: 0.7989403234802008\n",
      "costo 167: 0.0004412162946323721, accuracy 167: 0.7992191857222533\n",
      "costo 168: 0.000403045822766715, accuracy 168: 0.7994980479643057\n",
      "costo 169: 0.00041640847661117593, accuracy 169: 0.7994980479643057\n",
      "costo 170: 0.0005991531981648405, accuracy 170: 0.7992191857222533\n",
      "costo 171: 0.00040943394729579997, accuracy 171: 0.7992191857222533\n",
      "costo 172: 0.00039773364404599817, accuracy 172: 0.7989403234802008\n",
      "costo 173: 0.0003852809787468528, accuracy 173: 0.7992191857222533\n",
      "costo 174: 0.0003111059523023214, accuracy 174: 0.7992191857222533\n",
      "costo 175: 0.0004033825945510107, accuracy 175: 0.7992191857222533\n",
      "costo 176: 0.0003781286400431617, accuracy 176: 0.7992191857222533\n",
      "costo 177: 0.0003902157091331092, accuracy 177: 0.7989403234802008\n",
      "costo 178: 0.0003449784642160839, accuracy 178: 0.7989403234802008\n",
      "costo 179: 0.00039111612430678253, accuracy 179: 0.7989403234802008\n",
      "costo 180: 0.0004786401022891636, accuracy 180: 0.7992191857222533\n",
      "costo 181: 0.0003800595667933409, accuracy 181: 0.7992191857222533\n",
      "costo 182: 0.00040190801511390885, accuracy 182: 0.7994980479643057\n",
      "costo 183: 0.000357920818941019, accuracy 183: 0.7992191857222533\n",
      "costo 184: 0.00048348636998023805, accuracy 184: 0.7994980479643057\n",
      "costo 185: 0.00040260781992244453, accuracy 185: 0.7989403234802008\n",
      "costo 186: 0.0003411469024708864, accuracy 186: 0.7989403234802008\n",
      "costo 187: 0.0003552963589619064, accuracy 187: 0.7994980479643057\n",
      "costo 188: 0.0004230356496821103, accuracy 188: 0.7992191857222533\n",
      "costo 189: 0.0003157678112025269, accuracy 189: 0.7989403234802008\n",
      "costo 190: 0.0004992291858623628, accuracy 190: 0.7989403234802008\n",
      "costo 191: 0.000413919219672955, accuracy 191: 0.7986614612381484\n",
      "costo 192: 0.00036317167441343896, accuracy 192: 0.7992191857222533\n",
      "costo 193: 0.000619578692545325, accuracy 193: 0.7992191857222533\n",
      "costo 194: 0.00036727270905716376, accuracy 194: 0.798382598996096\n",
      "costo 195: 0.0004816877216704044, accuracy 195: 0.7994980479643057\n",
      "costo 196: 0.000302350972859119, accuracy 196: 0.7992191857222533\n",
      "costo 197: 0.0003840661565906663, accuracy 197: 0.7994980479643057\n",
      "costo 198: 0.00033504158991630304, accuracy 198: 0.7992191857222533\n",
      "costo 199: 0.0003416629614787294, accuracy 199: 0.7994980479643057\n",
      "costo 200: 0.0003986299908632443, accuracy 200: 0.7992191857222533\n",
      "costo 201: 0.0003585999768143476, accuracy 201: 0.7986614612381484\n",
      "costo 202: 0.0002668308054192075, accuracy 202: 0.7989403234802008\n",
      "costo 203: 0.00035617624476584213, accuracy 203: 0.7992191857222533\n",
      "costo 204: 0.00036504355219818004, accuracy 204: 0.7989403234802008\n",
      "costo 205: 0.0003010336202785137, accuracy 205: 0.7989403234802008\n",
      "costo 206: 0.0002967832257821109, accuracy 206: 0.7994980479643057\n",
      "costo 207: 0.0003787596755691502, accuracy 207: 0.7989403234802008\n",
      "costo 208: 0.0003441853164604373, accuracy 208: 0.7992191857222533\n",
      "costo 209: 0.0003599284141772167, accuracy 209: 0.7989403234802008\n",
      "costo 210: 0.0003639296780585587, accuracy 210: 0.7989403234802008\n",
      "costo 211: 0.00032506203240045725, accuracy 211: 0.7989403234802008\n",
      "costo 212: 0.00034376094212284217, accuracy 212: 0.7989403234802008\n",
      "costo 213: 0.00034191291467945505, accuracy 213: 0.7992191857222533\n",
      "costo 214: 0.00038076708633262617, accuracy 214: 0.7989403234802008\n",
      "costo 215: 0.00030464048842652444, accuracy 215: 0.7992191857222533\n",
      "costo 216: 0.0003659230473043363, accuracy 216: 0.7992191857222533\n",
      "costo 217: 0.0003284365920032176, accuracy 217: 0.7992191857222533\n",
      "costo 218: 0.00029127747207347026, accuracy 218: 0.7989403234802008\n",
      "costo 219: 0.0003142862376163544, accuracy 219: 0.7992191857222533\n",
      "costo 220: 0.0003428677052796507, accuracy 220: 0.7992191857222533\n",
      "costo 221: 0.00028917942542046316, accuracy 221: 0.7992191857222533\n",
      "costo 222: 0.00037130873410640814, accuracy 222: 0.7989403234802008\n",
      "costo 223: 0.0003197023456439036, accuracy 223: 0.798382598996096\n",
      "costo 224: 0.00036278119152955844, accuracy 224: 0.7986614612381484\n",
      "costo 225: 0.0003147427953402185, accuracy 225: 0.7986614612381484\n",
      "costo 226: 0.00035779163581318703, accuracy 226: 0.798382598996096\n",
      "costo 227: 0.0003172292498447562, accuracy 227: 0.798382598996096\n",
      "costo 228: 0.00024331499843286398, accuracy 228: 0.7986614612381484\n",
      "costo 229: 0.00030294556731341315, accuracy 229: 0.7986614612381484\n",
      "costo 230: 0.000348682167872567, accuracy 230: 0.798382598996096\n",
      "costo 231: 0.0003915544904986855, accuracy 231: 0.798382598996096\n",
      "costo 232: 0.0002944850822088489, accuracy 232: 0.798382598996096\n",
      "costo 233: 0.00031094164968461824, accuracy 233: 0.798382598996096\n",
      "costo 234: 0.00030966184112277546, accuracy 234: 0.7986614612381484\n",
      "costo 235: 0.0003577197818756332, accuracy 235: 0.7986614612381484\n",
      "costo 236: 0.0002618115561161498, accuracy 236: 0.7986614612381484\n",
      "costo 237: 0.0003054852645142316, accuracy 237: 0.798382598996096\n",
      "costo 238: 0.00030662989403711403, accuracy 238: 0.798382598996096\n",
      "costo 239: 0.0003004181392473657, accuracy 239: 0.798382598996096\n",
      "costo 240: 0.00026928493480799344, accuracy 240: 0.7986614612381484\n",
      "costo 241: 0.0002937622844068819, accuracy 241: 0.798382598996096\n",
      "costo 242: 0.00025906345122665985, accuracy 242: 0.7986614612381484\n",
      "costo 243: 0.00031315216645666743, accuracy 243: 0.7989403234802008\n",
      "costo 244: 0.0002791625050437444, accuracy 244: 0.7989403234802008\n",
      "costo 245: 0.00029382661993171644, accuracy 245: 0.7989403234802008\n",
      "costo 246: 0.00032853938560416316, accuracy 246: 0.7989403234802008\n",
      "costo 247: 0.0002257184804185635, accuracy 247: 0.7989403234802008\n",
      "costo 248: 0.00027428942446522777, accuracy 248: 0.7989403234802008\n",
      "costo 249: 0.0003242554995523371, accuracy 249: 0.7989403234802008\n",
      "costo 250: 0.00033515321476585997, accuracy 250: 0.7989403234802008\n",
      "costo 251: 0.00028410299979060805, accuracy 251: 0.7989403234802008\n",
      "costo 252: 0.00028912767823976256, accuracy 252: 0.7989403234802008\n",
      "costo 253: 0.0002611203222635096, accuracy 253: 0.7986614612381484\n",
      "costo 254: 0.0002939019380468519, accuracy 254: 0.7986614612381484\n",
      "costo 255: 0.00027380239117490065, accuracy 255: 0.7986614612381484\n",
      "costo 256: 0.00027792244144668845, accuracy 256: 0.7986614612381484\n",
      "costo 257: 0.0002698646303167295, accuracy 257: 0.7986614612381484\n",
      "costo 258: 0.0002892040036892732, accuracy 258: 0.798382598996096\n",
      "costo 259: 0.00022664566920951667, accuracy 259: 0.798382598996096\n",
      "costo 260: 0.0002724055770014927, accuracy 260: 0.7986614612381484\n",
      "costo 261: 0.0002409488161743562, accuracy 261: 0.798382598996096\n",
      "costo 262: 0.0002657561979827813, accuracy 262: 0.7986614612381484\n",
      "costo 263: 0.0002628981209003065, accuracy 263: 0.7989403234802008\n",
      "costo 264: 0.0002866580033316721, accuracy 264: 0.7986614612381484\n",
      "costo 265: 0.00027443390985147566, accuracy 265: 0.7986614612381484\n",
      "costo 266: 0.0003342700419756483, accuracy 266: 0.7986614612381484\n",
      "costo 267: 0.00024718514655929023, accuracy 267: 0.798382598996096\n",
      "costo 268: 0.00030359347756113924, accuracy 268: 0.7989403234802008\n",
      "costo 269: 0.00024033028985804628, accuracy 269: 0.7986614612381484\n",
      "costo 270: 0.00027277101293589725, accuracy 270: 0.7986614612381484\n",
      "costo 271: 0.0002850093735076127, accuracy 271: 0.7989403234802008\n",
      "costo 272: 0.00022089565750902935, accuracy 272: 0.798382598996096\n",
      "costo 273: 0.00022479569445491246, accuracy 273: 0.798382598996096\n",
      "costo 274: 0.0002580366550022406, accuracy 274: 0.7986614612381484\n",
      "costo 275: 0.0002659917803696615, accuracy 275: 0.7986614612381484\n",
      "costo 276: 0.00028592875628424754, accuracy 276: 0.7989403234802008\n",
      "costo 277: 0.00023107654184253949, accuracy 277: 0.7986614612381484\n",
      "costo 278: 0.00024335333433502863, accuracy 278: 0.7986614612381484\n",
      "costo 279: 0.0002183329149796439, accuracy 279: 0.7989403234802008\n",
      "costo 280: 0.00021478999576046988, accuracy 280: 0.7992191857222533\n",
      "costo 281: 0.00028291162805725513, accuracy 281: 0.7986614612381484\n",
      "costo 282: 0.00026448151248640754, accuracy 282: 0.7986614612381484\n",
      "costo 283: 0.00023535879027818493, accuracy 283: 0.7986614612381484\n",
      "costo 284: 0.00028596320422583977, accuracy 284: 0.7989403234802008\n",
      "costo 285: 0.0002314338000435623, accuracy 285: 0.7989403234802008\n",
      "costo 286: 0.00023487861887031442, accuracy 286: 0.7992191857222533\n",
      "costo 287: 0.0003066911450217829, accuracy 287: 0.7992191857222533\n",
      "costo 288: 0.00023380669494707423, accuracy 288: 0.7989403234802008\n",
      "costo 289: 0.00022649627399785725, accuracy 289: 0.7992191857222533\n",
      "costo 290: 0.00021961240017463377, accuracy 290: 0.7989403234802008\n",
      "costo 291: 0.0002858216764062199, accuracy 291: 0.7989403234802008\n",
      "costo 292: 0.0002213622579887385, accuracy 292: 0.7989403234802008\n",
      "costo 293: 0.0002523467964623481, accuracy 293: 0.7989403234802008\n",
      "costo 294: 0.00026987815244472317, accuracy 294: 0.7992191857222533\n",
      "costo 295: 0.00023966334526556355, accuracy 295: 0.7989403234802008\n",
      "costo 296: 0.0002184123540139979, accuracy 296: 0.7989403234802008\n",
      "costo 297: 0.00022851697464250012, accuracy 297: 0.7989403234802008\n",
      "costo 298: 0.00025226561587012844, accuracy 298: 0.7989403234802008\n",
      "costo 299: 0.00023247982358335986, accuracy 299: 0.7989403234802008\n"
     ]
    }
   ],
   "source": [
    "# Defining Model\n",
    "model = Sequential_layers([Linear(784, 300), ReLU(), Linear(300, 200), ReLU(), Linear(200, 150), ReLU(), Linear(150, 24)])\n",
    "mb_size = 512\n",
    "learning_rate = 1e-4\n",
    "epochs = 300\n",
    "\n",
    "# Trainning model\n",
    "train(model, epochs, mb_size, learning_rate)"
   ]
  },
  {
   "cell_type": "code",
   "execution_count": 112,
   "metadata": {},
   "outputs": [
    {
     "name": "stdout",
     "output_type": "stream",
     "text": [
      "0.7955939765755716\n"
     ]
    }
   ],
   "source": [
    "# Accuracy on test set\n",
    "print(accuracy(x_test, y_test, mb_size))"
   ]
  },
  {
   "cell_type": "code",
   "execution_count": null,
   "metadata": {},
   "outputs": [],
   "source": [
    "# Defining Model\n",
    "model = Sequential_layers([Linear(784, 400), ReLU(), Linear(400, 200), ReLU(), Linear(200, 24)])\n",
    "mb_size = 512\n",
    "learning_rate = 1e-4\n",
    "epochs = 50\n",
    "\n",
    "# Trainning model\n",
    "train(model, epochs, mb_size, learning_rate)\n"
   ]
  },
  {
   "cell_type": "code",
   "execution_count": null,
   "metadata": {},
   "outputs": [],
   "source": [
    "# Accuracy on test set\n",
    "print(accuracy(x_test, y_test, mb_size))"
   ]
  },
  {
   "cell_type": "markdown",
   "metadata": {},
   "source": [
    "### Test your model on Random data from your test set"
   ]
  },
  {
   "cell_type": "code",
   "execution_count": 115,
   "metadata": {},
   "outputs": [
    {
     "data": {
      "text/plain": [
       "[]"
      ]
     },
     "execution_count": 115,
     "metadata": {},
     "output_type": "execute_result"
    },
    {
     "data": {
      "image/png": "[encoded data removed]",
      "text/plain": [
       "<Figure size 1200x1200 with 15 Axes>"
      ]
     },
     "metadata": {},
     "output_type": "display_data"
    }
   ],
   "source": [
    "# Testing some images\n",
    "fig, ax = plt.subplots(nrows=5, ncols=3, \n",
    "                       sharex=True, sharey=True, figsize=(12, 12))\n",
    "ax = ax.flatten()\n",
    "\n",
    "for i in range(15):\n",
    "    plt.subplot(5, 3, i+1)\n",
    "    idx = np.random.randint(len(x_test))\n",
    "    plot_image(x_test[idx])\n",
    "    pred = model.predict(x_test[idx].reshape(-1, 1))\n",
    "    plt.title(f'predicted: {alphabet[pred]}, real:{alphabet[y_test[idx]]}')\n",
    "\n",
    "ax[0].set_xticks([])\n",
    "ax[0].set_yticks([])"
   ]
  }
 ],
 "metadata": {
  "kernelspec": {
   "display_name": "Python 3 (ipykernel)",
   "language": "python",
   "name": "python3"
  },
  "language_info": {
   "codemirror_mode": {
    "name": "ipython",
    "version": 3
   },
   "file_extension": ".py",
   "mimetype": "text/x-python",
   "name": "python",
   "nbconvert_exporter": "python",
   "pygments_lexer": "ipython3",
   "version": "3.12.3"
  },
  "toc": {
   "base_numbering": 1,
   "nav_menu": {},
   "number_sections": true,
   "sideBar": true,
   "skip_h1_title": false,
   "title_cell": "Table of Contents",
   "title_sidebar": "Contents",
   "toc_cell": false,
   "toc_position": {},
   "toc_section_display": true,
   "toc_window_display": false
  },
  "varInspector": {
   "cols": {
    "lenName": 16,
    "lenType": 16,
    "lenVar": 40
   },
   "kernels_config": {
    "python": {
     "delete_cmd_postfix": "",
     "delete_cmd_prefix": "del ",
     "library": "var_list.py",
     "varRefreshCmd": "print(var_dic_list())"
    },
    "r": {
     "delete_cmd_postfix": ") ",
     "delete_cmd_prefix": "rm(",
     "library": "var_list.r",
     "varRefreshCmd": "cat(var_dic_list()) "
    }
   },
   "types_to_exclude": [
    "module",
    "function",
    "builtin_function_or_method",
    "instance",
    "_Feature"
   ],
   "window_display": false
  }
 },
 "nbformat": 4,
 "nbformat_minor": 4
}
